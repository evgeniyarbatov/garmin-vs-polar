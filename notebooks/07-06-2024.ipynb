{
 "cells": [
  {
   "cell_type": "code",
   "execution_count": 104,
   "id": "6e4d21e8",
   "metadata": {},
   "outputs": [],
   "source": [
    "import psycopg2\n",
    "import pandas as pd\n",
    "import matplotlib.pyplot as plt\n",
    "\n",
    "from pytz import timezone\n",
    "from geopy.distance import geodesic\n",
    "\n",
    "import matplotlib\n",
    "import matplotlib.dates as mdates"
   ]
  },
  {
   "cell_type": "code",
   "execution_count": 105,
   "id": "fdd5e910",
   "metadata": {},
   "outputs": [],
   "source": [
    "matplotlib.rcParams['timezone'] = 'Asia/Singapore'"
   ]
  },
  {
   "cell_type": "code",
   "execution_count": 106,
   "id": "dab0eacf",
   "metadata": {},
   "outputs": [],
   "source": [
    "output_dir = '../metadata/07-06-2024'\n",
    "filename = 'location-error.png'"
   ]
  },
  {
   "cell_type": "code",
   "execution_count": 107,
   "id": "9f16e02b",
   "metadata": {},
   "outputs": [],
   "source": [
    "start_location = (1.2907799798995256, 103.77331998199224)\n",
    "stop_location = (1.3093499187380075, 103.89385996386409)"
   ]
  },
  {
   "cell_type": "code",
   "execution_count": 108,
   "id": "3cc0e880",
   "metadata": {},
   "outputs": [],
   "source": [
    "conn = psycopg2.connect(\n",
    "    host=\"localhost\",\n",
    "    database=\"gpx\",\n",
    "    user=\"root\",\n",
    "    password=\"root\"\n",
    ")"
   ]
  },
  {
   "cell_type": "code",
   "execution_count": 109,
   "id": "223a5a3c",
   "metadata": {},
   "outputs": [],
   "source": [
    "def query_postgis(device_table_name):\n",
    "    query = f\"\"\"\n",
    "WITH ordered_route_points AS (\n",
    "    SELECT location\n",
    "    FROM gpx_route\n",
    "    ORDER BY id\n",
    "),\n",
    "route_linestring AS (\n",
    "    SELECT ST_MakeLine(ST_Transform(location, 3857)) AS route\n",
    "    FROM ordered_route_points\n",
    ")\n",
    "\n",
    "SELECT\n",
    "    time,\n",
    "    ST_Y(location) AS latitude,\n",
    "    ST_X(location) AS longitude,\n",
    "    ST_Distance(ST_Transform(location, 3857), (SELECT route FROM route_linestring)) AS distance_to_route\n",
    "FROM\n",
    "    {device_table_name};\n",
    "\"\"\"\n",
    "    \n",
    "    with conn.cursor() as cur:\n",
    "        cur.execute(query)\n",
    "        rows = cur.fetchall()\n",
    "\n",
    "    df = pd.DataFrame(rows, columns=[\"time\", \"latitude\", \"longitude\", \"distance_to_route\"])\n",
    "    df['time'] = df['time'].apply(lambda x: x.astimezone(timezone('Asia/Singapore')))\n",
    "    \n",
    "    return df"
   ]
  },
  {
   "cell_type": "code",
   "execution_count": 110,
   "id": "babc9fec",
   "metadata": {},
   "outputs": [
    {
     "data": {
      "text/html": [
       "<div>\n",
       "<style scoped>\n",
       "    .dataframe tbody tr th:only-of-type {\n",
       "        vertical-align: middle;\n",
       "    }\n",
       "\n",
       "    .dataframe tbody tr th {\n",
       "        vertical-align: top;\n",
       "    }\n",
       "\n",
       "    .dataframe thead th {\n",
       "        text-align: right;\n",
       "    }\n",
       "</style>\n",
       "<table border=\"1\" class=\"dataframe\">\n",
       "  <thead>\n",
       "    <tr style=\"text-align: right;\">\n",
       "      <th></th>\n",
       "      <th>time</th>\n",
       "      <th>latitude</th>\n",
       "      <th>longitude</th>\n",
       "      <th>distance_to_route</th>\n",
       "    </tr>\n",
       "  </thead>\n",
       "  <tbody>\n",
       "    <tr>\n",
       "      <th>0</th>\n",
       "      <td>2024-06-07 22:53:05+08:00</td>\n",
       "      <td>1.283562</td>\n",
       "      <td>103.781514</td>\n",
       "      <td>494.764376</td>\n",
       "    </tr>\n",
       "    <tr>\n",
       "      <th>1</th>\n",
       "      <td>2024-06-07 22:53:14+08:00</td>\n",
       "      <td>1.283654</td>\n",
       "      <td>103.781455</td>\n",
       "      <td>491.109697</td>\n",
       "    </tr>\n",
       "    <tr>\n",
       "      <th>2</th>\n",
       "      <td>2024-06-07 22:53:16+08:00</td>\n",
       "      <td>1.283691</td>\n",
       "      <td>103.781420</td>\n",
       "      <td>490.597321</td>\n",
       "    </tr>\n",
       "  </tbody>\n",
       "</table>\n",
       "</div>"
      ],
      "text/plain": [
       "                       time  latitude   longitude  distance_to_route\n",
       "0 2024-06-07 22:53:05+08:00  1.283562  103.781514         494.764376\n",
       "1 2024-06-07 22:53:14+08:00  1.283654  103.781455         491.109697\n",
       "2 2024-06-07 22:53:16+08:00  1.283691  103.781420         490.597321"
      ]
     },
     "execution_count": 110,
     "metadata": {},
     "output_type": "execute_result"
    }
   ],
   "source": [
    "garmin_df = query_postgis('garmin_route')\n",
    "garmin_df.head(3)"
   ]
  },
  {
   "cell_type": "code",
   "execution_count": 111,
   "id": "2d1c7a54",
   "metadata": {},
   "outputs": [
    {
     "data": {
      "text/html": [
       "<div>\n",
       "<style scoped>\n",
       "    .dataframe tbody tr th:only-of-type {\n",
       "        vertical-align: middle;\n",
       "    }\n",
       "\n",
       "    .dataframe tbody tr th {\n",
       "        vertical-align: top;\n",
       "    }\n",
       "\n",
       "    .dataframe thead th {\n",
       "        text-align: right;\n",
       "    }\n",
       "</style>\n",
       "<table border=\"1\" class=\"dataframe\">\n",
       "  <thead>\n",
       "    <tr style=\"text-align: right;\">\n",
       "      <th></th>\n",
       "      <th>time</th>\n",
       "      <th>latitude</th>\n",
       "      <th>longitude</th>\n",
       "      <th>distance_to_route</th>\n",
       "    </tr>\n",
       "  </thead>\n",
       "  <tbody>\n",
       "    <tr>\n",
       "      <th>0</th>\n",
       "      <td>2024-06-07 22:53:00.834000+08:00</td>\n",
       "      <td>1.283608</td>\n",
       "      <td>103.781545</td>\n",
       "      <td>488.603794</td>\n",
       "    </tr>\n",
       "    <tr>\n",
       "      <th>1</th>\n",
       "      <td>2024-06-07 22:53:01.835000+08:00</td>\n",
       "      <td>1.283610</td>\n",
       "      <td>103.781528</td>\n",
       "      <td>489.639968</td>\n",
       "    </tr>\n",
       "    <tr>\n",
       "      <th>2</th>\n",
       "      <td>2024-06-07 22:53:02.834000+08:00</td>\n",
       "      <td>1.283607</td>\n",
       "      <td>103.781507</td>\n",
       "      <td>491.464282</td>\n",
       "    </tr>\n",
       "  </tbody>\n",
       "</table>\n",
       "</div>"
      ],
      "text/plain": [
       "                              time  latitude   longitude  distance_to_route\n",
       "0 2024-06-07 22:53:00.834000+08:00  1.283608  103.781545         488.603794\n",
       "1 2024-06-07 22:53:01.835000+08:00  1.283610  103.781528         489.639968\n",
       "2 2024-06-07 22:53:02.834000+08:00  1.283607  103.781507         491.464282"
      ]
     },
     "execution_count": 111,
     "metadata": {},
     "output_type": "execute_result"
    }
   ],
   "source": [
    "polar_df = query_postgis('polar_route')\n",
    "polar_df.head(3)"
   ]
  },
  {
   "cell_type": "code",
   "execution_count": 112,
   "id": "0399b099",
   "metadata": {},
   "outputs": [],
   "source": [
    "def crop_route(df, start_point_count):\n",
    "    df['start_distance'] = df.apply(lambda row: geodesic((row['latitude'], row['longitude']), start_location).meters, axis=1)\n",
    "    df['stop_distance'] = df.apply(lambda row: geodesic((row['latitude'], row['longitude']), stop_location).meters, axis=1)\n",
    "    \n",
    "    start_point_idx = df.iloc[:start_point_count]['start_distance'].idxmin()\n",
    "    end_point_idx = df.iloc[-200:]['stop_distance'].idxmin()\n",
    "    \n",
    "    df = df.iloc[start_point_idx:end_point_idx]\n",
    "    \n",
    "    return df"
   ]
  },
  {
   "cell_type": "code",
   "execution_count": 113,
   "id": "9c8c683e",
   "metadata": {},
   "outputs": [
    {
     "data": {
      "text/html": [
       "<div>\n",
       "<style scoped>\n",
       "    .dataframe tbody tr th:only-of-type {\n",
       "        vertical-align: middle;\n",
       "    }\n",
       "\n",
       "    .dataframe tbody tr th {\n",
       "        vertical-align: top;\n",
       "    }\n",
       "\n",
       "    .dataframe thead th {\n",
       "        text-align: right;\n",
       "    }\n",
       "</style>\n",
       "<table border=\"1\" class=\"dataframe\">\n",
       "  <thead>\n",
       "    <tr style=\"text-align: right;\">\n",
       "      <th></th>\n",
       "      <th>time</th>\n",
       "      <th>latitude</th>\n",
       "      <th>longitude</th>\n",
       "      <th>distance_to_route</th>\n",
       "      <th>start_distance</th>\n",
       "      <th>stop_distance</th>\n",
       "    </tr>\n",
       "  </thead>\n",
       "  <tbody>\n",
       "    <tr>\n",
       "      <th>124</th>\n",
       "      <td>2024-06-07 23:03:07+08:00</td>\n",
       "      <td>1.290838</td>\n",
       "      <td>103.773510</td>\n",
       "      <td>100.721742</td>\n",
       "      <td>22.090479</td>\n",
       "      <td>13549.387973</td>\n",
       "    </tr>\n",
       "    <tr>\n",
       "      <th>125</th>\n",
       "      <td>2024-06-07 23:03:11+08:00</td>\n",
       "      <td>1.290956</td>\n",
       "      <td>103.773532</td>\n",
       "      <td>87.334900</td>\n",
       "      <td>30.575429</td>\n",
       "      <td>13545.018879</td>\n",
       "    </tr>\n",
       "    <tr>\n",
       "      <th>126</th>\n",
       "      <td>2024-06-07 23:03:17+08:00</td>\n",
       "      <td>1.291113</td>\n",
       "      <td>103.773580</td>\n",
       "      <td>69.143515</td>\n",
       "      <td>46.820253</td>\n",
       "      <td>13537.097956</td>\n",
       "    </tr>\n",
       "  </tbody>\n",
       "</table>\n",
       "</div>"
      ],
      "text/plain": [
       "                         time  latitude   longitude  distance_to_route  \\\n",
       "124 2024-06-07 23:03:07+08:00  1.290838  103.773510         100.721742   \n",
       "125 2024-06-07 23:03:11+08:00  1.290956  103.773532          87.334900   \n",
       "126 2024-06-07 23:03:17+08:00  1.291113  103.773580          69.143515   \n",
       "\n",
       "     start_distance  stop_distance  \n",
       "124       22.090479   13549.387973  \n",
       "125       30.575429   13545.018879  \n",
       "126       46.820253   13537.097956  "
      ]
     },
     "execution_count": 113,
     "metadata": {},
     "output_type": "execute_result"
    }
   ],
   "source": [
    "garmin_df = crop_route(garmin_df, 200)\n",
    "garmin_df.head(3)"
   ]
  },
  {
   "cell_type": "code",
   "execution_count": 114,
   "id": "7693cebd",
   "metadata": {},
   "outputs": [
    {
     "data": {
      "text/html": [
       "<div>\n",
       "<style scoped>\n",
       "    .dataframe tbody tr th:only-of-type {\n",
       "        vertical-align: middle;\n",
       "    }\n",
       "\n",
       "    .dataframe tbody tr th {\n",
       "        vertical-align: top;\n",
       "    }\n",
       "\n",
       "    .dataframe thead th {\n",
       "        text-align: right;\n",
       "    }\n",
       "</style>\n",
       "<table border=\"1\" class=\"dataframe\">\n",
       "  <thead>\n",
       "    <tr style=\"text-align: right;\">\n",
       "      <th></th>\n",
       "      <th>time</th>\n",
       "      <th>latitude</th>\n",
       "      <th>longitude</th>\n",
       "      <th>distance_to_route</th>\n",
       "      <th>start_distance</th>\n",
       "      <th>stop_distance</th>\n",
       "    </tr>\n",
       "  </thead>\n",
       "  <tbody>\n",
       "    <tr>\n",
       "      <th>579</th>\n",
       "      <td>2024-06-07 23:03:08.834000+08:00</td>\n",
       "      <td>1.290753</td>\n",
       "      <td>103.773303</td>\n",
       "      <td>116.761223</td>\n",
       "      <td>3.481109</td>\n",
       "      <td>13573.535839</td>\n",
       "    </tr>\n",
       "    <tr>\n",
       "      <th>580</th>\n",
       "      <td>2024-06-07 23:03:09.834000+08:00</td>\n",
       "      <td>1.290780</td>\n",
       "      <td>103.773287</td>\n",
       "      <td>114.778557</td>\n",
       "      <td>3.707340</td>\n",
       "      <td>13574.922092</td>\n",
       "    </tr>\n",
       "    <tr>\n",
       "      <th>581</th>\n",
       "      <td>2024-06-07 23:03:10.835000+08:00</td>\n",
       "      <td>1.290808</td>\n",
       "      <td>103.773270</td>\n",
       "      <td>112.703678</td>\n",
       "      <td>6.385075</td>\n",
       "      <td>13576.282473</td>\n",
       "    </tr>\n",
       "  </tbody>\n",
       "</table>\n",
       "</div>"
      ],
      "text/plain": [
       "                                time  latitude   longitude  distance_to_route  \\\n",
       "579 2024-06-07 23:03:08.834000+08:00  1.290753  103.773303         116.761223   \n",
       "580 2024-06-07 23:03:09.834000+08:00  1.290780  103.773287         114.778557   \n",
       "581 2024-06-07 23:03:10.835000+08:00  1.290808  103.773270         112.703678   \n",
       "\n",
       "     start_distance  stop_distance  \n",
       "579        3.481109   13573.535839  \n",
       "580        3.707340   13574.922092  \n",
       "581        6.385075   13576.282473  "
      ]
     },
     "execution_count": 114,
     "metadata": {},
     "output_type": "execute_result"
    }
   ],
   "source": [
    "polar_df = crop_route(polar_df, 600)\n",
    "polar_df.head(3)"
   ]
  },
  {
   "cell_type": "code",
   "execution_count": 115,
   "id": "312545cc",
   "metadata": {},
   "outputs": [
    {
     "name": "stdout",
     "output_type": "stream",
     "text": [
      "              Polar        Garmin\n",
      "count  22923.000000  4.788000e+03\n",
      "mean      11.014874  7.330054e+00\n",
      "std       12.081661  1.003351e+01\n",
      "min        0.000279  8.480975e-08\n",
      "25%        3.408405  1.771783e+00\n",
      "50%        7.527448  4.233043e+00\n",
      "75%       14.147500  9.332433e+00\n",
      "max      116.761223  1.007217e+02\n"
     ]
    }
   ],
   "source": [
    "desc_polar_df = polar_df['distance_to_route'].describe().to_frame()\n",
    "desc_polar_df.columns = ['Polar']\n",
    "\n",
    "desc_garmin_df = garmin_df['distance_to_route'].describe().to_frame()\n",
    "desc_garmin_df.columns = ['Garmin']\n",
    "\n",
    "merged_desc = pd.concat([desc_polar_df, desc_garmin_df], axis=1)\n",
    "merged_desc.to_csv('/tmp/merged_desc.csv')\n",
    "\n",
    "print(merged_desc)"
   ]
  },
  {
   "cell_type": "code",
   "execution_count": 116,
   "id": "38ad1448",
   "metadata": {},
   "outputs": [
    {
     "data": {
      "image/png": "[encoded data removed]",
      "text/plain": [
       "<Figure size 864x432 with 1 Axes>"
      ]
     },
     "metadata": {
      "needs_background": "light"
     },
     "output_type": "display_data"
    }
   ],
   "source": [
    "plt.figure(figsize=(12, 6))\n",
    "plt.plot(polar_df['time'], polar_df['distance_to_route'], color='blue', label='Polar')\n",
    "plt.plot(garmin_df['time'], garmin_df['distance_to_route'], color='red', label='Garmin')\n",
    "plt.xlabel('Time')\n",
    "plt.ylabel('Distance error (m)')\n",
    "plt.legend()\n",
    "plt.grid(True)\n",
    "plt.gca().xaxis.set_major_formatter(mdates.DateFormatter('%H:%M'))\n",
    "plt.savefig(output_dir + '/' + filename)"
   ]
  },
  {
   "cell_type": "code",
   "execution_count": 117,
   "id": "04043300",
   "metadata": {},
   "outputs": [],
   "source": [
    "def get_total_distance(df):\n",
    "    df['prev_latitude'] = df['latitude'].shift(1)\n",
    "    df['prev_longitude'] = df['longitude'].shift(1)\n",
    "\n",
    "    df = df.dropna().reset_index(drop=True)\n",
    "\n",
    "    df['distance'] = df.apply(lambda x: geodesic((x['prev_latitude'], x['prev_longitude']), (x['latitude'], x['longitude'])).meters, axis=1)\n",
    "    df['accumulated_distance'] = df['distance'].cumsum()\n",
    "    \n",
    "    return df"
   ]
  },
  {
   "cell_type": "code",
   "execution_count": 118,
   "id": "77df5923",
   "metadata": {},
   "outputs": [
    {
     "data": {
      "text/plain": [
       "50497.246318562145"
      ]
     },
     "execution_count": 118,
     "metadata": {},
     "output_type": "execute_result"
    }
   ],
   "source": [
    "polar_df = get_total_distance(polar_df)\n",
    "polar_df.iloc[-1]['accumulated_distance']"
   ]
  },
  {
   "cell_type": "code",
   "execution_count": 119,
   "id": "4fae55a1",
   "metadata": {},
   "outputs": [
    {
     "data": {
      "text/plain": [
       "48070.81283248653"
      ]
     },
     "execution_count": 119,
     "metadata": {},
     "output_type": "execute_result"
    }
   ],
   "source": [
    "garmin_df = get_total_distance(garmin_df)\n",
    "garmin_df.iloc[-1]['accumulated_distance']"
   ]
  },
  {
   "cell_type": "code",
   "execution_count": 120,
   "id": "53444ccf",
   "metadata": {},
   "outputs": [
    {
     "data": {
      "text/plain": [
       "2426.4334860756135"
      ]
     },
     "execution_count": 120,
     "metadata": {},
     "output_type": "execute_result"
    }
   ],
   "source": [
    "polar_df.iloc[-1]['accumulated_distance'] - garmin_df.iloc[-1]['accumulated_distance']"
   ]
  },
  {
   "cell_type": "code",
   "execution_count": null,
   "id": "c370e81d",
   "metadata": {},
   "outputs": [],
   "source": []
  }
 ],
 "metadata": {
  "kernelspec": {
   "display_name": "Python 3 (ipykernel)",
   "language": "python",
   "name": "python3"
  },
  "language_info": {
   "codemirror_mode": {
    "name": "ipython",
    "version": 3
   },
   "file_extension": ".py",
   "mimetype": "text/x-python",
   "name": "python",
   "nbconvert_exporter": "python",
   "pygments_lexer": "ipython3",
   "version": "3.11.9"
  }
 },
 "nbformat": 4,
 "nbformat_minor": 5
}
