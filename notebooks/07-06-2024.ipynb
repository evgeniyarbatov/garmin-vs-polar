{
 "cells": [
  {
   "cell_type": "code",
   "execution_count": 7,
   "id": "6e4d21e8",
   "metadata": {},
   "outputs": [],
   "source": [
    "import pandas as pd\n",
    "\n",
    "import matplotlib\n",
    "import matplotlib.pyplot as plt\n",
    "import matplotlib.dates as mdates\n",
    "\n",
    "from utils import init_postgis, get_location_error, crop_route, get_total_distance"
   ]
  },
  {
   "cell_type": "code",
   "execution_count": 8,
   "id": "fdd5e910",
   "metadata": {},
   "outputs": [],
   "source": [
    "matplotlib.rcParams['timezone'] = 'Asia/Singapore'"
   ]
  },
  {
   "cell_type": "code",
   "execution_count": 14,
   "id": "cc1094f5",
   "metadata": {},
   "outputs": [],
   "source": [
    "date = '07-06-2024'"
   ]
  },
  {
   "cell_type": "code",
   "execution_count": 15,
   "id": "dab0eacf",
   "metadata": {},
   "outputs": [],
   "source": [
    "input_dir = f\"../data/{date}\"\n",
    "output_dir = f\"../metadata/{date}\""
   ]
  },
  {
   "cell_type": "code",
   "execution_count": 16,
   "id": "9f16e02b",
   "metadata": {},
   "outputs": [],
   "source": [
    "start_location = (1.2907799798995256, 103.77331998199224)\n",
    "stop_location = (1.3093499187380075, 103.89385996386409)"
   ]
  },
  {
   "cell_type": "code",
   "execution_count": 17,
   "id": "dbe9c693",
   "metadata": {},
   "outputs": [],
   "source": [
    "init_postgis('gpx_route', input_dir + '/route.gpx')\n",
    "init_postgis('polar_route', input_dir + '/polar.gpx')\n",
    "init_postgis('garmin_route', input_dir + '/garmin.gpx')"
   ]
  },
  {
   "cell_type": "code",
   "execution_count": 18,
   "id": "babc9fec",
   "metadata": {},
   "outputs": [
    {
     "data": {
      "text/html": [
       "<div>\n",
       "<style scoped>\n",
       "    .dataframe tbody tr th:only-of-type {\n",
       "        vertical-align: middle;\n",
       "    }\n",
       "\n",
       "    .dataframe tbody tr th {\n",
       "        vertical-align: top;\n",
       "    }\n",
       "\n",
       "    .dataframe thead th {\n",
       "        text-align: right;\n",
       "    }\n",
       "</style>\n",
       "<table border=\"1\" class=\"dataframe\">\n",
       "  <thead>\n",
       "    <tr style=\"text-align: right;\">\n",
       "      <th></th>\n",
       "      <th>time</th>\n",
       "      <th>latitude</th>\n",
       "      <th>longitude</th>\n",
       "      <th>distance_to_route</th>\n",
       "    </tr>\n",
       "  </thead>\n",
       "  <tbody>\n",
       "    <tr>\n",
       "      <th>0</th>\n",
       "      <td>2024-06-07 22:52:56+08:00</td>\n",
       "      <td>1.283522</td>\n",
       "      <td>103.781554</td>\n",
       "      <td>495.427038</td>\n",
       "    </tr>\n",
       "    <tr>\n",
       "      <th>1</th>\n",
       "      <td>2024-06-07 22:53:05+08:00</td>\n",
       "      <td>1.283562</td>\n",
       "      <td>103.781514</td>\n",
       "      <td>494.764376</td>\n",
       "    </tr>\n",
       "    <tr>\n",
       "      <th>2</th>\n",
       "      <td>2024-06-07 22:53:14+08:00</td>\n",
       "      <td>1.283654</td>\n",
       "      <td>103.781455</td>\n",
       "      <td>491.109697</td>\n",
       "    </tr>\n",
       "  </tbody>\n",
       "</table>\n",
       "</div>"
      ],
      "text/plain": [
       "                       time  latitude   longitude  distance_to_route\n",
       "0 2024-06-07 22:52:56+08:00  1.283522  103.781554         495.427038\n",
       "1 2024-06-07 22:53:05+08:00  1.283562  103.781514         494.764376\n",
       "2 2024-06-07 22:53:14+08:00  1.283654  103.781455         491.109697"
      ]
     },
     "execution_count": 18,
     "metadata": {},
     "output_type": "execute_result"
    }
   ],
   "source": [
    "garmin_df = get_location_error('garmin_route')\n",
    "garmin_df.head(3)"
   ]
  },
  {
   "cell_type": "code",
   "execution_count": 19,
   "id": "2d1c7a54",
   "metadata": {},
   "outputs": [
    {
     "data": {
      "text/html": [
       "<div>\n",
       "<style scoped>\n",
       "    .dataframe tbody tr th:only-of-type {\n",
       "        vertical-align: middle;\n",
       "    }\n",
       "\n",
       "    .dataframe tbody tr th {\n",
       "        vertical-align: top;\n",
       "    }\n",
       "\n",
       "    .dataframe thead th {\n",
       "        text-align: right;\n",
       "    }\n",
       "</style>\n",
       "<table border=\"1\" class=\"dataframe\">\n",
       "  <thead>\n",
       "    <tr style=\"text-align: right;\">\n",
       "      <th></th>\n",
       "      <th>time</th>\n",
       "      <th>latitude</th>\n",
       "      <th>longitude</th>\n",
       "      <th>distance_to_route</th>\n",
       "    </tr>\n",
       "  </thead>\n",
       "  <tbody>\n",
       "    <tr>\n",
       "      <th>0</th>\n",
       "      <td>2024-06-07 22:52:59.833000+08:00</td>\n",
       "      <td>1.283608</td>\n",
       "      <td>103.781545</td>\n",
       "      <td>488.603794</td>\n",
       "    </tr>\n",
       "    <tr>\n",
       "      <th>1</th>\n",
       "      <td>2024-06-07 22:53:00.834000+08:00</td>\n",
       "      <td>1.283608</td>\n",
       "      <td>103.781545</td>\n",
       "      <td>488.603794</td>\n",
       "    </tr>\n",
       "    <tr>\n",
       "      <th>2</th>\n",
       "      <td>2024-06-07 22:53:01.835000+08:00</td>\n",
       "      <td>1.283610</td>\n",
       "      <td>103.781528</td>\n",
       "      <td>489.639968</td>\n",
       "    </tr>\n",
       "  </tbody>\n",
       "</table>\n",
       "</div>"
      ],
      "text/plain": [
       "                              time  latitude   longitude  distance_to_route\n",
       "0 2024-06-07 22:52:59.833000+08:00  1.283608  103.781545         488.603794\n",
       "1 2024-06-07 22:53:00.834000+08:00  1.283608  103.781545         488.603794\n",
       "2 2024-06-07 22:53:01.835000+08:00  1.283610  103.781528         489.639968"
      ]
     },
     "execution_count": 19,
     "metadata": {},
     "output_type": "execute_result"
    }
   ],
   "source": [
    "polar_df = get_location_error('polar_route')\n",
    "polar_df.head(3)"
   ]
  },
  {
   "cell_type": "code",
   "execution_count": 20,
   "id": "9c8c683e",
   "metadata": {},
   "outputs": [
    {
     "data": {
      "text/html": [
       "<div>\n",
       "<style scoped>\n",
       "    .dataframe tbody tr th:only-of-type {\n",
       "        vertical-align: middle;\n",
       "    }\n",
       "\n",
       "    .dataframe tbody tr th {\n",
       "        vertical-align: top;\n",
       "    }\n",
       "\n",
       "    .dataframe thead th {\n",
       "        text-align: right;\n",
       "    }\n",
       "</style>\n",
       "<table border=\"1\" class=\"dataframe\">\n",
       "  <thead>\n",
       "    <tr style=\"text-align: right;\">\n",
       "      <th></th>\n",
       "      <th>time</th>\n",
       "      <th>latitude</th>\n",
       "      <th>longitude</th>\n",
       "      <th>distance_to_route</th>\n",
       "      <th>start_distance</th>\n",
       "      <th>stop_distance</th>\n",
       "    </tr>\n",
       "  </thead>\n",
       "  <tbody>\n",
       "    <tr>\n",
       "      <th>125</th>\n",
       "      <td>2024-06-07 23:03:07+08:00</td>\n",
       "      <td>1.290838</td>\n",
       "      <td>103.773510</td>\n",
       "      <td>17.074394</td>\n",
       "      <td>22.090479</td>\n",
       "      <td>13549.387973</td>\n",
       "    </tr>\n",
       "    <tr>\n",
       "      <th>126</th>\n",
       "      <td>2024-06-07 23:03:11+08:00</td>\n",
       "      <td>1.290956</td>\n",
       "      <td>103.773532</td>\n",
       "      <td>14.265790</td>\n",
       "      <td>30.575429</td>\n",
       "      <td>13545.018879</td>\n",
       "    </tr>\n",
       "    <tr>\n",
       "      <th>127</th>\n",
       "      <td>2024-06-07 23:03:17+08:00</td>\n",
       "      <td>1.291113</td>\n",
       "      <td>103.773580</td>\n",
       "      <td>12.567197</td>\n",
       "      <td>46.820253</td>\n",
       "      <td>13537.097956</td>\n",
       "    </tr>\n",
       "  </tbody>\n",
       "</table>\n",
       "</div>"
      ],
      "text/plain": [
       "                         time  latitude   longitude  distance_to_route  \\\n",
       "125 2024-06-07 23:03:07+08:00  1.290838  103.773510          17.074394   \n",
       "126 2024-06-07 23:03:11+08:00  1.290956  103.773532          14.265790   \n",
       "127 2024-06-07 23:03:17+08:00  1.291113  103.773580          12.567197   \n",
       "\n",
       "     start_distance  stop_distance  \n",
       "125       22.090479   13549.387973  \n",
       "126       30.575429   13545.018879  \n",
       "127       46.820253   13537.097956  "
      ]
     },
     "execution_count": 20,
     "metadata": {},
     "output_type": "execute_result"
    }
   ],
   "source": [
    "garmin_df = crop_route(garmin_df, start_location, stop_location, 200)\n",
    "garmin_df.head(3)"
   ]
  },
  {
   "cell_type": "code",
   "execution_count": 21,
   "id": "7693cebd",
   "metadata": {},
   "outputs": [
    {
     "data": {
      "text/html": [
       "<div>\n",
       "<style scoped>\n",
       "    .dataframe tbody tr th:only-of-type {\n",
       "        vertical-align: middle;\n",
       "    }\n",
       "\n",
       "    .dataframe tbody tr th {\n",
       "        vertical-align: top;\n",
       "    }\n",
       "\n",
       "    .dataframe thead th {\n",
       "        text-align: right;\n",
       "    }\n",
       "</style>\n",
       "<table border=\"1\" class=\"dataframe\">\n",
       "  <thead>\n",
       "    <tr style=\"text-align: right;\">\n",
       "      <th></th>\n",
       "      <th>time</th>\n",
       "      <th>latitude</th>\n",
       "      <th>longitude</th>\n",
       "      <th>distance_to_route</th>\n",
       "      <th>start_distance</th>\n",
       "      <th>stop_distance</th>\n",
       "    </tr>\n",
       "  </thead>\n",
       "  <tbody>\n",
       "    <tr>\n",
       "      <th>580</th>\n",
       "      <td>2024-06-07 23:03:08.834000+08:00</td>\n",
       "      <td>1.290753</td>\n",
       "      <td>103.773303</td>\n",
       "      <td>3.498810</td>\n",
       "      <td>3.481109</td>\n",
       "      <td>13573.535839</td>\n",
       "    </tr>\n",
       "    <tr>\n",
       "      <th>581</th>\n",
       "      <td>2024-06-07 23:03:09.834000+08:00</td>\n",
       "      <td>1.290780</td>\n",
       "      <td>103.773287</td>\n",
       "      <td>3.708275</td>\n",
       "      <td>3.707340</td>\n",
       "      <td>13574.922092</td>\n",
       "    </tr>\n",
       "    <tr>\n",
       "      <th>582</th>\n",
       "      <td>2024-06-07 23:03:10.835000+08:00</td>\n",
       "      <td>1.290808</td>\n",
       "      <td>103.773270</td>\n",
       "      <td>6.348870</td>\n",
       "      <td>6.385075</td>\n",
       "      <td>13576.282473</td>\n",
       "    </tr>\n",
       "  </tbody>\n",
       "</table>\n",
       "</div>"
      ],
      "text/plain": [
       "                                time  latitude   longitude  distance_to_route  \\\n",
       "580 2024-06-07 23:03:08.834000+08:00  1.290753  103.773303           3.498810   \n",
       "581 2024-06-07 23:03:09.834000+08:00  1.290780  103.773287           3.708275   \n",
       "582 2024-06-07 23:03:10.835000+08:00  1.290808  103.773270           6.348870   \n",
       "\n",
       "     start_distance  stop_distance  \n",
       "580        3.481109   13573.535839  \n",
       "581        3.707340   13574.922092  \n",
       "582        6.385075   13576.282473  "
      ]
     },
     "execution_count": 21,
     "metadata": {},
     "output_type": "execute_result"
    }
   ],
   "source": [
    "polar_df = crop_route(polar_df, start_location, stop_location, 600)\n",
    "polar_df.head(3)"
   ]
  },
  {
   "cell_type": "code",
   "execution_count": 22,
   "id": "312545cc",
   "metadata": {},
   "outputs": [
    {
     "name": "stdout",
     "output_type": "stream",
     "text": [
      "              Polar        Garmin\n",
      "count  22923.000000  4.788000e+03\n",
      "mean      10.935590  7.271963e+00\n",
      "std       11.854594  9.808478e+00\n",
      "min        0.000279  8.480975e-08\n",
      "25%        3.408405  1.771783e+00\n",
      "50%        7.516802  4.233043e+00\n",
      "75%       14.098382  9.332433e+00\n",
      "max      108.413033  9.852515e+01\n"
     ]
    }
   ],
   "source": [
    "desc_polar_df = polar_df['distance_to_route'].describe().to_frame()\n",
    "desc_polar_df.columns = ['Polar']\n",
    "\n",
    "desc_garmin_df = garmin_df['distance_to_route'].describe().to_frame()\n",
    "desc_garmin_df.columns = ['Garmin']\n",
    "\n",
    "merged_desc = pd.concat([desc_polar_df, desc_garmin_df], axis=1)\n",
    "merged_desc.to_csv('/tmp/merged_desc.csv')\n",
    "\n",
    "print(merged_desc)"
   ]
  },
  {
   "cell_type": "code",
   "execution_count": 23,
   "id": "38ad1448",
   "metadata": {},
   "outputs": [
    {
     "data": {
      "image/png": "[encoded data removed]",
      "text/plain": [
       "<Figure size 864x432 with 1 Axes>"
      ]
     },
     "metadata": {
      "needs_background": "light"
     },
     "output_type": "display_data"
    }
   ],
   "source": [
    "plt.figure(figsize=(12, 6))\n",
    "plt.plot(polar_df['time'], polar_df['distance_to_route'], color='blue', label='Polar')\n",
    "plt.plot(garmin_df['time'], garmin_df['distance_to_route'], color='red', label='Garmin')\n",
    "plt.xlabel('Time')\n",
    "plt.ylabel('Distance error (m)')\n",
    "plt.legend()\n",
    "plt.grid(True)\n",
    "plt.gca().xaxis.set_major_formatter(mdates.DateFormatter('%H:%M'))\n",
    "plt.savefig(output_dir + '/location-error.png', bbox_inches='tight', facecolor='white')"
   ]
  },
  {
   "cell_type": "code",
   "execution_count": 24,
   "id": "77df5923",
   "metadata": {},
   "outputs": [
    {
     "data": {
      "text/plain": [
       "50497.246318562145"
      ]
     },
     "execution_count": 24,
     "metadata": {},
     "output_type": "execute_result"
    }
   ],
   "source": [
    "polar_df = get_total_distance(polar_df)\n",
    "polar_df.iloc[-1]['accumulated_distance']"
   ]
  },
  {
   "cell_type": "code",
   "execution_count": 25,
   "id": "4fae55a1",
   "metadata": {},
   "outputs": [
    {
     "data": {
      "text/plain": [
       "48070.81283248653"
      ]
     },
     "execution_count": 25,
     "metadata": {},
     "output_type": "execute_result"
    }
   ],
   "source": [
    "garmin_df = get_total_distance(garmin_df)\n",
    "garmin_df.iloc[-1]['accumulated_distance']"
   ]
  },
  {
   "cell_type": "code",
   "execution_count": 26,
   "id": "53444ccf",
   "metadata": {},
   "outputs": [
    {
     "data": {
      "text/plain": [
       "2426.4334860756135"
      ]
     },
     "execution_count": 26,
     "metadata": {},
     "output_type": "execute_result"
    }
   ],
   "source": [
    "polar_df.iloc[-1]['accumulated_distance'] - garmin_df.iloc[-1]['accumulated_distance']"
   ]
  }
 ],
 "metadata": {
  "kernelspec": {
   "display_name": "Python 3 (ipykernel)",
   "language": "python",
   "name": "python3"
  },
  "language_info": {
   "codemirror_mode": {
    "name": "ipython",
    "version": 3
   },
   "file_extension": ".py",
   "mimetype": "text/x-python",
   "name": "python",
   "nbconvert_exporter": "python",
   "pygments_lexer": "ipython3",
   "version": "3.11.9"
  }
 },
 "nbformat": 4,
 "nbformat_minor": 5
}
