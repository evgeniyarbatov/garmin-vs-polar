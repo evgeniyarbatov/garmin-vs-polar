{
 "cells": [
  {
   "cell_type": "code",
   "execution_count": 17,
   "id": "b6741c2a",
   "metadata": {},
   "outputs": [],
   "source": [
    "import pandas as pd\n",
    "\n",
    "import matplotlib\n",
    "import matplotlib.pyplot as plt\n",
    "import matplotlib.dates as mdates\n",
    "\n",
    "from utils import init_postgis, get_location_error, crop_route, get_total_distance"
   ]
  },
  {
   "cell_type": "code",
   "execution_count": 18,
   "id": "0cbf21fd",
   "metadata": {},
   "outputs": [],
   "source": [
    "matplotlib.rcParams['timezone'] = 'Asia/Singapore'"
   ]
  },
  {
   "cell_type": "code",
   "execution_count": 19,
   "id": "c9eacb74",
   "metadata": {},
   "outputs": [],
   "source": [
    "date = '14-06-2024'"
   ]
  },
  {
   "cell_type": "code",
   "execution_count": 20,
   "id": "b6c73242",
   "metadata": {},
   "outputs": [],
   "source": [
    "input_dir = f\"../data/{date}\"\n",
    "output_dir = f\"../metadata/{date}\""
   ]
  },
  {
   "cell_type": "code",
   "execution_count": 21,
   "id": "e7ac8488",
   "metadata": {},
   "outputs": [],
   "source": [
    "start_location = (1.309445687403374, 103.8945458856887)\n",
    "stop_location = (1.3529034694080613, 103.87632796340252)"
   ]
  },
  {
   "cell_type": "code",
   "execution_count": 22,
   "id": "4bac6861",
   "metadata": {},
   "outputs": [],
   "source": [
    "init_postgis('gpx_route', input_dir + '/route.gpx')\n",
    "init_postgis('polar_route', input_dir + '/polar.gpx')\n",
    "init_postgis('garmin_route', input_dir + '/garmin.gpx')"
   ]
  },
  {
   "cell_type": "code",
   "execution_count": 23,
   "id": "38829044",
   "metadata": {},
   "outputs": [
    {
     "data": {
      "text/html": [
       "<div>\n",
       "<style scoped>\n",
       "    .dataframe tbody tr th:only-of-type {\n",
       "        vertical-align: middle;\n",
       "    }\n",
       "\n",
       "    .dataframe tbody tr th {\n",
       "        vertical-align: top;\n",
       "    }\n",
       "\n",
       "    .dataframe thead th {\n",
       "        text-align: right;\n",
       "    }\n",
       "</style>\n",
       "<table border=\"1\" class=\"dataframe\">\n",
       "  <thead>\n",
       "    <tr style=\"text-align: right;\">\n",
       "      <th></th>\n",
       "      <th>time</th>\n",
       "      <th>latitude</th>\n",
       "      <th>longitude</th>\n",
       "      <th>distance_to_route</th>\n",
       "    </tr>\n",
       "  </thead>\n",
       "  <tbody>\n",
       "    <tr>\n",
       "      <th>0</th>\n",
       "      <td>2024-06-14 21:41:45+08:00</td>\n",
       "      <td>1.309434</td>\n",
       "      <td>103.896091</td>\n",
       "      <td>173.964152</td>\n",
       "    </tr>\n",
       "    <tr>\n",
       "      <th>1</th>\n",
       "      <td>2024-06-14 21:42:00+08:00</td>\n",
       "      <td>1.309462</td>\n",
       "      <td>103.896110</td>\n",
       "      <td>176.944060</td>\n",
       "    </tr>\n",
       "    <tr>\n",
       "      <th>2</th>\n",
       "      <td>2024-06-14 21:42:09+08:00</td>\n",
       "      <td>1.309428</td>\n",
       "      <td>103.896120</td>\n",
       "      <td>176.820596</td>\n",
       "    </tr>\n",
       "  </tbody>\n",
       "</table>\n",
       "</div>"
      ],
      "text/plain": [
       "                       time  latitude   longitude  distance_to_route\n",
       "0 2024-06-14 21:41:45+08:00  1.309434  103.896091         173.964152\n",
       "1 2024-06-14 21:42:00+08:00  1.309462  103.896110         176.944060\n",
       "2 2024-06-14 21:42:09+08:00  1.309428  103.896120         176.820596"
      ]
     },
     "execution_count": 23,
     "metadata": {},
     "output_type": "execute_result"
    }
   ],
   "source": [
    "garmin_df = get_location_error('garmin_route')\n",
    "garmin_df.head(3)"
   ]
  },
  {
   "cell_type": "code",
   "execution_count": 24,
   "id": "ec907ca2",
   "metadata": {},
   "outputs": [
    {
     "data": {
      "text/html": [
       "<div>\n",
       "<style scoped>\n",
       "    .dataframe tbody tr th:only-of-type {\n",
       "        vertical-align: middle;\n",
       "    }\n",
       "\n",
       "    .dataframe tbody tr th {\n",
       "        vertical-align: top;\n",
       "    }\n",
       "\n",
       "    .dataframe thead th {\n",
       "        text-align: right;\n",
       "    }\n",
       "</style>\n",
       "<table border=\"1\" class=\"dataframe\">\n",
       "  <thead>\n",
       "    <tr style=\"text-align: right;\">\n",
       "      <th></th>\n",
       "      <th>time</th>\n",
       "      <th>latitude</th>\n",
       "      <th>longitude</th>\n",
       "      <th>distance_to_route</th>\n",
       "    </tr>\n",
       "  </thead>\n",
       "  <tbody>\n",
       "    <tr>\n",
       "      <th>0</th>\n",
       "      <td>2024-06-14 21:42:22.269000+08:00</td>\n",
       "      <td>1.309432</td>\n",
       "      <td>103.896152</td>\n",
       "      <td>180.229824</td>\n",
       "    </tr>\n",
       "    <tr>\n",
       "      <th>1</th>\n",
       "      <td>2024-06-14 21:42:23.270000+08:00</td>\n",
       "      <td>1.309432</td>\n",
       "      <td>103.896152</td>\n",
       "      <td>180.229824</td>\n",
       "    </tr>\n",
       "    <tr>\n",
       "      <th>2</th>\n",
       "      <td>2024-06-14 21:42:24.271000+08:00</td>\n",
       "      <td>1.309457</td>\n",
       "      <td>103.896145</td>\n",
       "      <td>180.463732</td>\n",
       "    </tr>\n",
       "  </tbody>\n",
       "</table>\n",
       "</div>"
      ],
      "text/plain": [
       "                              time  latitude   longitude  distance_to_route\n",
       "0 2024-06-14 21:42:22.269000+08:00  1.309432  103.896152         180.229824\n",
       "1 2024-06-14 21:42:23.270000+08:00  1.309432  103.896152         180.229824\n",
       "2 2024-06-14 21:42:24.271000+08:00  1.309457  103.896145         180.463732"
      ]
     },
     "execution_count": 24,
     "metadata": {},
     "output_type": "execute_result"
    }
   ],
   "source": [
    "polar_df = get_location_error('polar_route')\n",
    "polar_df.head(3)"
   ]
  },
  {
   "cell_type": "code",
   "execution_count": 25,
   "id": "819a9fee",
   "metadata": {},
   "outputs": [
    {
     "data": {
      "text/html": [
       "<div>\n",
       "<style scoped>\n",
       "    .dataframe tbody tr th:only-of-type {\n",
       "        vertical-align: middle;\n",
       "    }\n",
       "\n",
       "    .dataframe tbody tr th {\n",
       "        vertical-align: top;\n",
       "    }\n",
       "\n",
       "    .dataframe thead th {\n",
       "        text-align: right;\n",
       "    }\n",
       "</style>\n",
       "<table border=\"1\" class=\"dataframe\">\n",
       "  <thead>\n",
       "    <tr style=\"text-align: right;\">\n",
       "      <th></th>\n",
       "      <th>time</th>\n",
       "      <th>latitude</th>\n",
       "      <th>longitude</th>\n",
       "      <th>distance_to_route</th>\n",
       "      <th>start_distance</th>\n",
       "      <th>stop_distance</th>\n",
       "    </tr>\n",
       "  </thead>\n",
       "  <tbody>\n",
       "    <tr>\n",
       "      <th>13</th>\n",
       "      <td>2024-06-14 21:43:21+08:00</td>\n",
       "      <td>1.309501</td>\n",
       "      <td>103.894629</td>\n",
       "      <td>22.406617</td>\n",
       "      <td>11.055872</td>\n",
       "      <td>5213.505613</td>\n",
       "    </tr>\n",
       "    <tr>\n",
       "      <th>14</th>\n",
       "      <td>2024-06-14 21:43:26+08:00</td>\n",
       "      <td>1.309361</td>\n",
       "      <td>103.894640</td>\n",
       "      <td>18.568704</td>\n",
       "      <td>14.038920</td>\n",
       "      <td>5228.221104</td>\n",
       "    </tr>\n",
       "    <tr>\n",
       "      <th>15</th>\n",
       "      <td>2024-06-14 21:43:33+08:00</td>\n",
       "      <td>1.309173</td>\n",
       "      <td>103.894688</td>\n",
       "      <td>16.854179</td>\n",
       "      <td>34.048641</td>\n",
       "      <td>5249.469379</td>\n",
       "    </tr>\n",
       "  </tbody>\n",
       "</table>\n",
       "</div>"
      ],
      "text/plain": [
       "                        time  latitude   longitude  distance_to_route  \\\n",
       "13 2024-06-14 21:43:21+08:00  1.309501  103.894629          22.406617   \n",
       "14 2024-06-14 21:43:26+08:00  1.309361  103.894640          18.568704   \n",
       "15 2024-06-14 21:43:33+08:00  1.309173  103.894688          16.854179   \n",
       "\n",
       "    start_distance  stop_distance  \n",
       "13       11.055872    5213.505613  \n",
       "14       14.038920    5228.221104  \n",
       "15       34.048641    5249.469379  "
      ]
     },
     "execution_count": 25,
     "metadata": {},
     "output_type": "execute_result"
    }
   ],
   "source": [
    "garmin_df = crop_route(garmin_df, start_location, stop_location, 200)\n",
    "garmin_df.head(3)"
   ]
  },
  {
   "cell_type": "code",
   "execution_count": 26,
   "id": "3260b65c",
   "metadata": {},
   "outputs": [
    {
     "data": {
      "text/html": [
       "<div>\n",
       "<style scoped>\n",
       "    .dataframe tbody tr th:only-of-type {\n",
       "        vertical-align: middle;\n",
       "    }\n",
       "\n",
       "    .dataframe tbody tr th {\n",
       "        vertical-align: top;\n",
       "    }\n",
       "\n",
       "    .dataframe thead th {\n",
       "        text-align: right;\n",
       "    }\n",
       "</style>\n",
       "<table border=\"1\" class=\"dataframe\">\n",
       "  <thead>\n",
       "    <tr style=\"text-align: right;\">\n",
       "      <th></th>\n",
       "      <th>time</th>\n",
       "      <th>latitude</th>\n",
       "      <th>longitude</th>\n",
       "      <th>distance_to_route</th>\n",
       "      <th>start_distance</th>\n",
       "      <th>stop_distance</th>\n",
       "    </tr>\n",
       "  </thead>\n",
       "  <tbody>\n",
       "    <tr>\n",
       "      <th>62</th>\n",
       "      <td>2024-06-14 21:43:24.271000+08:00</td>\n",
       "      <td>1.309450</td>\n",
       "      <td>103.894612</td>\n",
       "      <td>18.775003</td>\n",
       "      <td>7.336690</td>\n",
       "      <td>5217.955296</td>\n",
       "    </tr>\n",
       "    <tr>\n",
       "      <th>63</th>\n",
       "      <td>2024-06-14 21:43:25.271000+08:00</td>\n",
       "      <td>1.309428</td>\n",
       "      <td>103.894615</td>\n",
       "      <td>18.342422</td>\n",
       "      <td>7.927615</td>\n",
       "      <td>5220.306309</td>\n",
       "    </tr>\n",
       "    <tr>\n",
       "      <th>64</th>\n",
       "      <td>2024-06-14 21:43:26.271000+08:00</td>\n",
       "      <td>1.309405</td>\n",
       "      <td>103.894617</td>\n",
       "      <td>17.675060</td>\n",
       "      <td>9.071829</td>\n",
       "      <td>5222.754431</td>\n",
       "    </tr>\n",
       "  </tbody>\n",
       "</table>\n",
       "</div>"
      ],
      "text/plain": [
       "                               time  latitude   longitude  distance_to_route  \\\n",
       "62 2024-06-14 21:43:24.271000+08:00  1.309450  103.894612          18.775003   \n",
       "63 2024-06-14 21:43:25.271000+08:00  1.309428  103.894615          18.342422   \n",
       "64 2024-06-14 21:43:26.271000+08:00  1.309405  103.894617          17.675060   \n",
       "\n",
       "    start_distance  stop_distance  \n",
       "62        7.336690    5217.955296  \n",
       "63        7.927615    5220.306309  \n",
       "64        9.071829    5222.754431  "
      ]
     },
     "execution_count": 26,
     "metadata": {},
     "output_type": "execute_result"
    }
   ],
   "source": [
    "polar_df = crop_route(polar_df, start_location, stop_location, 600)\n",
    "polar_df.head(3)"
   ]
  },
  {
   "cell_type": "code",
   "execution_count": 27,
   "id": "323d1ff4",
   "metadata": {},
   "outputs": [
    {
     "name": "stdout",
     "output_type": "stream",
     "text": [
      "              Polar       Garmin\n",
      "count  26849.000000  5806.000000\n",
      "mean      12.183876    12.559679\n",
      "std       23.731189    25.999709\n",
      "min        0.000536     0.001572\n",
      "25%        2.998031     2.538568\n",
      "50%        6.166509     5.978562\n",
      "75%       11.804859    11.510435\n",
      "max      198.990322   202.455530\n"
     ]
    }
   ],
   "source": [
    "desc_polar_df = polar_df['distance_to_route'].describe().to_frame()\n",
    "desc_polar_df.columns = ['Polar']\n",
    "\n",
    "desc_garmin_df = garmin_df['distance_to_route'].describe().to_frame()\n",
    "desc_garmin_df.columns = ['Garmin']\n",
    "\n",
    "merged_desc = pd.concat([desc_polar_df, desc_garmin_df], axis=1)\n",
    "merged_desc.to_csv('/tmp/merged_desc.csv')\n",
    "\n",
    "print(merged_desc)"
   ]
  },
  {
   "cell_type": "code",
   "execution_count": 28,
   "id": "da064294",
   "metadata": {},
   "outputs": [
    {
     "data": {
      "image/png": "[encoded data removed]",
      "text/plain": [
       "<Figure size 864x432 with 1 Axes>"
      ]
     },
     "metadata": {
      "needs_background": "light"
     },
     "output_type": "display_data"
    }
   ],
   "source": [
    "plt.figure(figsize=(12, 6))\n",
    "plt.plot(polar_df['time'], polar_df['distance_to_route'], color='blue', label='Polar')\n",
    "plt.plot(garmin_df['time'], garmin_df['distance_to_route'], color='red', label='Garmin')\n",
    "plt.xlabel('Time')\n",
    "plt.ylabel('Distance error (m)')\n",
    "plt.legend()\n",
    "plt.grid(True)\n",
    "plt.gca().xaxis.set_major_formatter(mdates.DateFormatter('%H:%M'))\n",
    "plt.savefig(output_dir + '/location-error.png', bbox_inches='tight', facecolor='white')"
   ]
  },
  {
   "cell_type": "code",
   "execution_count": 29,
   "id": "21269f56",
   "metadata": {},
   "outputs": [
    {
     "data": {
      "text/plain": [
       "61067.96255906263"
      ]
     },
     "execution_count": 29,
     "metadata": {},
     "output_type": "execute_result"
    }
   ],
   "source": [
    "polar_df = get_total_distance(polar_df)\n",
    "polar_df.iloc[-1]['accumulated_distance']"
   ]
  },
  {
   "cell_type": "code",
   "execution_count": 30,
   "id": "9369b6a4",
   "metadata": {},
   "outputs": [
    {
     "data": {
      "text/plain": [
       "58925.812995617845"
      ]
     },
     "execution_count": 30,
     "metadata": {},
     "output_type": "execute_result"
    }
   ],
   "source": [
    "garmin_df = get_total_distance(garmin_df)\n",
    "garmin_df.iloc[-1]['accumulated_distance']"
   ]
  },
  {
   "cell_type": "code",
   "execution_count": 31,
   "id": "677c62e8",
   "metadata": {},
   "outputs": [
    {
     "data": {
      "text/plain": [
       "2142.1495634447856"
      ]
     },
     "execution_count": 31,
     "metadata": {},
     "output_type": "execute_result"
    }
   ],
   "source": [
    "polar_df.iloc[-1]['accumulated_distance'] - garmin_df.iloc[-1]['accumulated_distance']"
   ]
  },
  {
   "cell_type": "code",
   "execution_count": null,
   "id": "f79f2c8c",
   "metadata": {},
   "outputs": [],
   "source": []
  }
 ],
 "metadata": {
  "kernelspec": {
   "display_name": "Python 3 (ipykernel)",
   "language": "python",
   "name": "python3"
  },
  "language_info": {
   "codemirror_mode": {
    "name": "ipython",
    "version": 3
   },
   "file_extension": ".py",
   "mimetype": "text/x-python",
   "name": "python",
   "nbconvert_exporter": "python",
   "pygments_lexer": "ipython3",
   "version": "3.11.9"
  }
 },
 "nbformat": 4,
 "nbformat_minor": 5
}
