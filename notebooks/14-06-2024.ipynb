{
 "cells": [
  {
   "cell_type": "code",
   "execution_count": 1,
   "id": "cbe91a28",
   "metadata": {},
   "outputs": [],
   "source": [
    "import psycopg2\n",
    "import pandas as pd\n",
    "import matplotlib.pyplot as plt\n",
    "\n",
    "from pytz import timezone\n",
    "from geopy.distance import geodesic\n",
    "\n",
    "import matplotlib\n",
    "import matplotlib.dates as mdates"
   ]
  },
  {
   "cell_type": "code",
   "execution_count": 2,
   "id": "704ddd54",
   "metadata": {},
   "outputs": [],
   "source": [
    "matplotlib.rcParams['timezone'] = 'Asia/Singapore'"
   ]
  },
  {
   "cell_type": "code",
   "execution_count": null,
   "id": "b8c5f6ef",
   "metadata": {},
   "outputs": [],
   "source": [
    "output_dir = '../metadata/14-06-2024'\n",
    "filename = 'location-error.png'"
   ]
  },
  {
   "cell_type": "code",
   "execution_count": 3,
   "id": "c26b3e37",
   "metadata": {},
   "outputs": [],
   "source": [
    "start_location = (1.309445687403374, 103.8945458856887)\n",
    "stop_location = (1.3529034694080613, 103.87632796340252)"
   ]
  },
  {
   "cell_type": "code",
   "execution_count": 4,
   "id": "35f45232",
   "metadata": {},
   "outputs": [],
   "source": [
    "conn = psycopg2.connect(\n",
    "    host=\"localhost\",\n",
    "    database=\"gpx\",\n",
    "    user=\"root\",\n",
    "    password=\"root\"\n",
    ")"
   ]
  },
  {
   "cell_type": "code",
   "execution_count": 5,
   "id": "03060ed0",
   "metadata": {},
   "outputs": [],
   "source": [
    "def query_postgis(device_table_name):\n",
    "    query = f\"\"\"\n",
    "WITH ordered_route_points AS (\n",
    "    SELECT location\n",
    "    FROM gpx_route\n",
    "    ORDER BY id\n",
    "),\n",
    "route_linestring AS (\n",
    "    SELECT ST_MakeLine(ST_Transform(location, 3857)) AS route\n",
    "    FROM ordered_route_points\n",
    ")\n",
    "\n",
    "SELECT\n",
    "    time,\n",
    "    ST_Y(location) AS latitude,\n",
    "    ST_X(location) AS longitude,\n",
    "    ST_Distance(ST_Transform(location, 3857), (SELECT route FROM route_linestring)) AS distance_to_route\n",
    "FROM\n",
    "    {device_table_name};\n",
    "\"\"\"\n",
    "    \n",
    "    with conn.cursor() as cur:\n",
    "        cur.execute(query)\n",
    "        rows = cur.fetchall()\n",
    "\n",
    "    df = pd.DataFrame(rows, columns=[\"time\", \"latitude\", \"longitude\", \"distance_to_route\"])\n",
    "    df['time'] = df['time'].apply(lambda x: x.astimezone(timezone('Asia/Singapore')))\n",
    "    \n",
    "    return df"
   ]
  },
  {
   "cell_type": "code",
   "execution_count": 6,
   "id": "9b4fecd0",
   "metadata": {},
   "outputs": [
    {
     "data": {
      "text/html": [
       "<div>\n",
       "<style scoped>\n",
       "    .dataframe tbody tr th:only-of-type {\n",
       "        vertical-align: middle;\n",
       "    }\n",
       "\n",
       "    .dataframe tbody tr th {\n",
       "        vertical-align: top;\n",
       "    }\n",
       "\n",
       "    .dataframe thead th {\n",
       "        text-align: right;\n",
       "    }\n",
       "</style>\n",
       "<table border=\"1\" class=\"dataframe\">\n",
       "  <thead>\n",
       "    <tr style=\"text-align: right;\">\n",
       "      <th></th>\n",
       "      <th>time</th>\n",
       "      <th>latitude</th>\n",
       "      <th>longitude</th>\n",
       "      <th>distance_to_route</th>\n",
       "    </tr>\n",
       "  </thead>\n",
       "  <tbody>\n",
       "    <tr>\n",
       "      <th>0</th>\n",
       "      <td>2024-06-14 21:42:00+08:00</td>\n",
       "      <td>1.309462</td>\n",
       "      <td>103.896110</td>\n",
       "      <td>177.667839</td>\n",
       "    </tr>\n",
       "    <tr>\n",
       "      <th>1</th>\n",
       "      <td>2024-06-14 21:42:09+08:00</td>\n",
       "      <td>1.309428</td>\n",
       "      <td>103.896120</td>\n",
       "      <td>176.944175</td>\n",
       "    </tr>\n",
       "    <tr>\n",
       "      <th>2</th>\n",
       "      <td>2024-06-14 21:42:19+08:00</td>\n",
       "      <td>1.309443</td>\n",
       "      <td>103.896051</td>\n",
       "      <td>170.922153</td>\n",
       "    </tr>\n",
       "  </tbody>\n",
       "</table>\n",
       "</div>"
      ],
      "text/plain": [
       "                       time  latitude   longitude  distance_to_route\n",
       "0 2024-06-14 21:42:00+08:00  1.309462  103.896110         177.667839\n",
       "1 2024-06-14 21:42:09+08:00  1.309428  103.896120         176.944175\n",
       "2 2024-06-14 21:42:19+08:00  1.309443  103.896051         170.922153"
      ]
     },
     "execution_count": 6,
     "metadata": {},
     "output_type": "execute_result"
    }
   ],
   "source": [
    "garmin_df = query_postgis('garmin_route')\n",
    "garmin_df.head(3)"
   ]
  },
  {
   "cell_type": "code",
   "execution_count": 7,
   "id": "9d681f6d",
   "metadata": {},
   "outputs": [
    {
     "data": {
      "text/html": [
       "<div>\n",
       "<style scoped>\n",
       "    .dataframe tbody tr th:only-of-type {\n",
       "        vertical-align: middle;\n",
       "    }\n",
       "\n",
       "    .dataframe tbody tr th {\n",
       "        vertical-align: top;\n",
       "    }\n",
       "\n",
       "    .dataframe thead th {\n",
       "        text-align: right;\n",
       "    }\n",
       "</style>\n",
       "<table border=\"1\" class=\"dataframe\">\n",
       "  <thead>\n",
       "    <tr style=\"text-align: right;\">\n",
       "      <th></th>\n",
       "      <th>time</th>\n",
       "      <th>latitude</th>\n",
       "      <th>longitude</th>\n",
       "      <th>distance_to_route</th>\n",
       "    </tr>\n",
       "  </thead>\n",
       "  <tbody>\n",
       "    <tr>\n",
       "      <th>0</th>\n",
       "      <td>2024-06-14 21:42:23.270000+08:00</td>\n",
       "      <td>1.309432</td>\n",
       "      <td>103.896152</td>\n",
       "      <td>180.229824</td>\n",
       "    </tr>\n",
       "    <tr>\n",
       "      <th>1</th>\n",
       "      <td>2024-06-14 21:42:24.271000+08:00</td>\n",
       "      <td>1.309457</td>\n",
       "      <td>103.896145</td>\n",
       "      <td>180.869332</td>\n",
       "    </tr>\n",
       "    <tr>\n",
       "      <th>2</th>\n",
       "      <td>2024-06-14 21:42:25.271000+08:00</td>\n",
       "      <td>1.309455</td>\n",
       "      <td>103.896138</td>\n",
       "      <td>180.125676</td>\n",
       "    </tr>\n",
       "  </tbody>\n",
       "</table>\n",
       "</div>"
      ],
      "text/plain": [
       "                              time  latitude   longitude  distance_to_route\n",
       "0 2024-06-14 21:42:23.270000+08:00  1.309432  103.896152         180.229824\n",
       "1 2024-06-14 21:42:24.271000+08:00  1.309457  103.896145         180.869332\n",
       "2 2024-06-14 21:42:25.271000+08:00  1.309455  103.896138         180.125676"
      ]
     },
     "execution_count": 7,
     "metadata": {},
     "output_type": "execute_result"
    }
   ],
   "source": [
    "polar_df = query_postgis('polar_route')\n",
    "polar_df.head(3)"
   ]
  },
  {
   "cell_type": "code",
   "execution_count": 8,
   "id": "06378492",
   "metadata": {},
   "outputs": [],
   "source": [
    "def crop_route(df, start_point_count):\n",
    "    df['start_distance'] = df.apply(lambda row: geodesic((row['latitude'], row['longitude']), start_location).meters, axis=1)\n",
    "    df['stop_distance'] = df.apply(lambda row: geodesic((row['latitude'], row['longitude']), stop_location).meters, axis=1)\n",
    "    \n",
    "    start_point_idx = df.iloc[:start_point_count]['start_distance'].idxmin()\n",
    "    end_point_idx = df.iloc[-200:]['stop_distance'].idxmin()\n",
    "    \n",
    "    df = df.iloc[start_point_idx:end_point_idx]\n",
    "    \n",
    "    return df"
   ]
  },
  {
   "cell_type": "code",
   "execution_count": 9,
   "id": "f64cbf1d",
   "metadata": {},
   "outputs": [
    {
     "data": {
      "text/html": [
       "<div>\n",
       "<style scoped>\n",
       "    .dataframe tbody tr th:only-of-type {\n",
       "        vertical-align: middle;\n",
       "    }\n",
       "\n",
       "    .dataframe tbody tr th {\n",
       "        vertical-align: top;\n",
       "    }\n",
       "\n",
       "    .dataframe thead th {\n",
       "        text-align: right;\n",
       "    }\n",
       "</style>\n",
       "<table border=\"1\" class=\"dataframe\">\n",
       "  <thead>\n",
       "    <tr style=\"text-align: right;\">\n",
       "      <th></th>\n",
       "      <th>time</th>\n",
       "      <th>latitude</th>\n",
       "      <th>longitude</th>\n",
       "      <th>distance_to_route</th>\n",
       "      <th>start_distance</th>\n",
       "      <th>stop_distance</th>\n",
       "    </tr>\n",
       "  </thead>\n",
       "  <tbody>\n",
       "    <tr>\n",
       "      <th>12</th>\n",
       "      <td>2024-06-14 21:43:21+08:00</td>\n",
       "      <td>1.309501</td>\n",
       "      <td>103.894629</td>\n",
       "      <td>79.249385</td>\n",
       "      <td>11.055872</td>\n",
       "      <td>5213.505613</td>\n",
       "    </tr>\n",
       "    <tr>\n",
       "      <th>13</th>\n",
       "      <td>2024-06-14 21:43:26+08:00</td>\n",
       "      <td>1.309361</td>\n",
       "      <td>103.894640</td>\n",
       "      <td>63.662028</td>\n",
       "      <td>14.038920</td>\n",
       "      <td>5228.221104</td>\n",
       "    </tr>\n",
       "    <tr>\n",
       "      <th>14</th>\n",
       "      <td>2024-06-14 21:43:33+08:00</td>\n",
       "      <td>1.309173</td>\n",
       "      <td>103.894688</td>\n",
       "      <td>42.798133</td>\n",
       "      <td>34.048641</td>\n",
       "      <td>5249.469379</td>\n",
       "    </tr>\n",
       "  </tbody>\n",
       "</table>\n",
       "</div>"
      ],
      "text/plain": [
       "                        time  latitude   longitude  distance_to_route  \\\n",
       "12 2024-06-14 21:43:21+08:00  1.309501  103.894629          79.249385   \n",
       "13 2024-06-14 21:43:26+08:00  1.309361  103.894640          63.662028   \n",
       "14 2024-06-14 21:43:33+08:00  1.309173  103.894688          42.798133   \n",
       "\n",
       "    start_distance  stop_distance  \n",
       "12       11.055872    5213.505613  \n",
       "13       14.038920    5228.221104  \n",
       "14       34.048641    5249.469379  "
      ]
     },
     "execution_count": 9,
     "metadata": {},
     "output_type": "execute_result"
    }
   ],
   "source": [
    "garmin_df = crop_route(garmin_df, 200)\n",
    "garmin_df.head(3)"
   ]
  },
  {
   "cell_type": "code",
   "execution_count": 10,
   "id": "25c725f3",
   "metadata": {},
   "outputs": [
    {
     "data": {
      "text/html": [
       "<div>\n",
       "<style scoped>\n",
       "    .dataframe tbody tr th:only-of-type {\n",
       "        vertical-align: middle;\n",
       "    }\n",
       "\n",
       "    .dataframe tbody tr th {\n",
       "        vertical-align: top;\n",
       "    }\n",
       "\n",
       "    .dataframe thead th {\n",
       "        text-align: right;\n",
       "    }\n",
       "</style>\n",
       "<table border=\"1\" class=\"dataframe\">\n",
       "  <thead>\n",
       "    <tr style=\"text-align: right;\">\n",
       "      <th></th>\n",
       "      <th>time</th>\n",
       "      <th>latitude</th>\n",
       "      <th>longitude</th>\n",
       "      <th>distance_to_route</th>\n",
       "      <th>start_distance</th>\n",
       "      <th>stop_distance</th>\n",
       "    </tr>\n",
       "  </thead>\n",
       "  <tbody>\n",
       "    <tr>\n",
       "      <th>61</th>\n",
       "      <td>2024-06-14 21:43:24.271000+08:00</td>\n",
       "      <td>1.309450</td>\n",
       "      <td>103.894612</td>\n",
       "      <td>73.694632</td>\n",
       "      <td>7.336690</td>\n",
       "      <td>5217.955296</td>\n",
       "    </tr>\n",
       "    <tr>\n",
       "      <th>62</th>\n",
       "      <td>2024-06-14 21:43:25.271000+08:00</td>\n",
       "      <td>1.309428</td>\n",
       "      <td>103.894615</td>\n",
       "      <td>71.261368</td>\n",
       "      <td>7.927615</td>\n",
       "      <td>5220.306309</td>\n",
       "    </tr>\n",
       "    <tr>\n",
       "      <th>63</th>\n",
       "      <td>2024-06-14 21:43:26.271000+08:00</td>\n",
       "      <td>1.309405</td>\n",
       "      <td>103.894617</td>\n",
       "      <td>68.656965</td>\n",
       "      <td>9.071829</td>\n",
       "      <td>5222.754431</td>\n",
       "    </tr>\n",
       "  </tbody>\n",
       "</table>\n",
       "</div>"
      ],
      "text/plain": [
       "                               time  latitude   longitude  distance_to_route  \\\n",
       "61 2024-06-14 21:43:24.271000+08:00  1.309450  103.894612          73.694632   \n",
       "62 2024-06-14 21:43:25.271000+08:00  1.309428  103.894615          71.261368   \n",
       "63 2024-06-14 21:43:26.271000+08:00  1.309405  103.894617          68.656965   \n",
       "\n",
       "    start_distance  stop_distance  \n",
       "61        7.336690    5217.955296  \n",
       "62        7.927615    5220.306309  \n",
       "63        9.071829    5222.754431  "
      ]
     },
     "execution_count": 10,
     "metadata": {},
     "output_type": "execute_result"
    }
   ],
   "source": [
    "polar_df = crop_route(polar_df, 600)\n",
    "polar_df.head(3)"
   ]
  },
  {
   "cell_type": "code",
   "execution_count": 11,
   "id": "e293d1f6",
   "metadata": {},
   "outputs": [
    {
     "name": "stdout",
     "output_type": "stream",
     "text": [
      "              Polar       Garmin\n",
      "count  26849.000000  5806.000000\n",
      "mean      12.205283    12.584278\n",
      "std       23.752298    26.026301\n",
      "min        0.000536     0.001572\n",
      "25%        2.998031     2.538568\n",
      "50%        6.166509     5.978562\n",
      "75%       11.804859    11.510435\n",
      "max      198.990322   202.455530\n"
     ]
    }
   ],
   "source": [
    "desc_polar_df = polar_df['distance_to_route'].describe().to_frame()\n",
    "desc_polar_df.columns = ['Polar']\n",
    "\n",
    "desc_garmin_df = garmin_df['distance_to_route'].describe().to_frame()\n",
    "desc_garmin_df.columns = ['Garmin']\n",
    "\n",
    "merged_desc = pd.concat([desc_polar_df, desc_garmin_df], axis=1)\n",
    "merged_desc.to_csv('/tmp/merged_desc.csv')\n",
    "\n",
    "print(merged_desc)"
   ]
  },
  {
   "cell_type": "code",
   "execution_count": 12,
   "id": "45ae7cba",
   "metadata": {},
   "outputs": [
    {
     "ename": "NameError",
     "evalue": "name 'output_dir' is not defined",
     "output_type": "error",
     "traceback": [
      "\u001b[0;31m---------------------------------------------------------------------------\u001b[0m",
      "\u001b[0;31mNameError\u001b[0m                                 Traceback (most recent call last)",
      "Input \u001b[0;32mIn [12]\u001b[0m, in \u001b[0;36m<cell line: 0>\u001b[0;34m()\u001b[0m\n\u001b[1;32m      7\u001b[0m plt\u001b[38;5;241m.\u001b[39mgrid(\u001b[38;5;28;01mTrue\u001b[39;00m)\n\u001b[1;32m      8\u001b[0m plt\u001b[38;5;241m.\u001b[39mgca()\u001b[38;5;241m.\u001b[39mxaxis\u001b[38;5;241m.\u001b[39mset_major_formatter(mdates\u001b[38;5;241m.\u001b[39mDateFormatter(\u001b[38;5;124m'\u001b[39m\u001b[38;5;124m%\u001b[39m\u001b[38;5;124mH:\u001b[39m\u001b[38;5;124m%\u001b[39m\u001b[38;5;124mM\u001b[39m\u001b[38;5;124m'\u001b[39m))\n\u001b[0;32m----> 9\u001b[0m plt\u001b[38;5;241m.\u001b[39msavefig(\u001b[43moutput_dir\u001b[49m \u001b[38;5;241m+\u001b[39m \u001b[38;5;124m'\u001b[39m\u001b[38;5;124m/\u001b[39m\u001b[38;5;124m'\u001b[39m \u001b[38;5;241m+\u001b[39m filename)\n",
      "\u001b[0;31mNameError\u001b[0m: name 'output_dir' is not defined"
     ]
    },
    {
     "data": {
      "image/png": "[encoded data removed]",
      "text/plain": [
       "<Figure size 864x432 with 1 Axes>"
      ]
     },
     "metadata": {
      "needs_background": "light"
     },
     "output_type": "display_data"
    }
   ],
   "source": [
    "plt.figure(figsize=(12, 6))\n",
    "plt.plot(polar_df['time'], polar_df['distance_to_route'], color='blue', label='Polar')\n",
    "plt.plot(garmin_df['time'], garmin_df['distance_to_route'], color='red', label='Garmin')\n",
    "plt.xlabel('Time')\n",
    "plt.ylabel('Distance error (m)')\n",
    "plt.legend()\n",
    "plt.grid(True)\n",
    "plt.gca().xaxis.set_major_formatter(mdates.DateFormatter('%H:%M'))\n",
    "plt.savefig(output_dir + '/' + filename)"
   ]
  },
  {
   "cell_type": "code",
   "execution_count": null,
   "id": "103ddc4e",
   "metadata": {},
   "outputs": [],
   "source": []
  }
 ],
 "metadata": {
  "kernelspec": {
   "display_name": "Python 3 (ipykernel)",
   "language": "python",
   "name": "python3"
  },
  "language_info": {
   "codemirror_mode": {
    "name": "ipython",
    "version": 3
   },
   "file_extension": ".py",
   "mimetype": "text/x-python",
   "name": "python",
   "nbconvert_exporter": "python",
   "pygments_lexer": "ipython3",
   "version": "3.11.9"
  }
 },
 "nbformat": 4,
 "nbformat_minor": 5
}
