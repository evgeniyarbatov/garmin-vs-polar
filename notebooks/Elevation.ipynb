{
 "cells": [
  {
   "cell_type": "code",
   "execution_count": 4,
   "id": "cfb91254",
   "metadata": {},
   "outputs": [],
   "source": [
    "import pandas as pd\n",
    "import gpxpy\n",
    "from pytz import timezone"
   ]
  },
  {
   "cell_type": "code",
   "execution_count": 6,
   "id": "2008056e",
   "metadata": {},
   "outputs": [],
   "source": [
    "input_dir = '../data/27-05-2023'"
   ]
  },
  {
   "cell_type": "code",
   "execution_count": 7,
   "id": "c1fa101c",
   "metadata": {},
   "outputs": [],
   "source": [
    "def parse_gpx(filepath):\n",
    "    gpx_file = open(filepath, 'r')\n",
    "    gpx = gpxpy.parse(gpx_file)\n",
    "\n",
    "    data = []\n",
    "    for track in gpx.tracks:\n",
    "        for segment in track.segments:\n",
    "            for point in segment.points:\n",
    "                time = point.time.astimezone(timezone('Asia/Singapore'))\n",
    "                data.append({\n",
    "                  'time': time,\n",
    "                  'elevation': point.elevation,\n",
    "                })\n",
    "\n",
    "    df = pd.DataFrame(data)\n",
    "    return df"
   ]
  },
  {
   "cell_type": "code",
   "execution_count": 8,
   "id": "1f8420c5",
   "metadata": {},
   "outputs": [],
   "source": [
    "garmin_df = parse_gpx(input_dir + '/garmin.gpx')\n",
    "polar_df = parse_gpx(input_dir + '/polar.gpx')"
   ]
  },
  {
   "cell_type": "code",
   "execution_count": null,
   "id": "ffd5c237",
   "metadata": {},
   "outputs": [],
   "source": []
  }
 ],
 "metadata": {
  "kernelspec": {
   "display_name": "Python 3 (ipykernel)",
   "language": "python",
   "name": "python3"
  },
  "language_info": {
   "codemirror_mode": {
    "name": "ipython",
    "version": 3
   },
   "file_extension": ".py",
   "mimetype": "text/x-python",
   "name": "python",
   "nbconvert_exporter": "python",
   "pygments_lexer": "ipython3",
   "version": "3.11.9"
  }
 },
 "nbformat": 4,
 "nbformat_minor": 5
}
