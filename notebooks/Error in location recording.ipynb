{
 "cells": [
  {
   "cell_type": "code",
   "execution_count": 34,
   "id": "ce43c0ef",
   "metadata": {},
   "outputs": [],
   "source": [
    "import psycopg2\n",
    "import pandas as pd\n",
    "import matplotlib.pyplot as plt\n",
    "\n",
    "from pytz import timezone\n",
    "from geopy.distance import geodesic"
   ]
  },
  {
   "cell_type": "code",
   "execution_count": 19,
   "id": "c9554614",
   "metadata": {},
   "outputs": [],
   "source": [
    "output_dir = '../metadata/27-05-2023'\n",
    "filename = 'location-error.png'"
   ]
  },
  {
   "cell_type": "code",
   "execution_count": 31,
   "id": "c607ea5e",
   "metadata": {},
   "outputs": [],
   "source": [
    "start_location = (1.309743979078668, 103.89449080743935)"
   ]
  },
  {
   "cell_type": "code",
   "execution_count": 2,
   "id": "d263283a",
   "metadata": {},
   "outputs": [],
   "source": [
    "conn = psycopg2.connect(\n",
    "    host=\"localhost\",\n",
    "    database=\"gpx\",\n",
    "    user=\"root\",\n",
    "    password=\"root\"\n",
    ")"
   ]
  },
  {
   "cell_type": "code",
   "execution_count": 103,
   "id": "48176da2",
   "metadata": {},
   "outputs": [
    {
     "data": {
      "text/html": [
       "<div>\n",
       "<style scoped>\n",
       "    .dataframe tbody tr th:only-of-type {\n",
       "        vertical-align: middle;\n",
       "    }\n",
       "\n",
       "    .dataframe tbody tr th {\n",
       "        vertical-align: top;\n",
       "    }\n",
       "\n",
       "    .dataframe thead th {\n",
       "        text-align: right;\n",
       "    }\n",
       "</style>\n",
       "<table border=\"1\" class=\"dataframe\">\n",
       "  <thead>\n",
       "    <tr style=\"text-align: right;\">\n",
       "      <th></th>\n",
       "      <th>time</th>\n",
       "      <th>latitude</th>\n",
       "      <th>longitude</th>\n",
       "      <th>distance_to_route</th>\n",
       "    </tr>\n",
       "  </thead>\n",
       "  <tbody>\n",
       "    <tr>\n",
       "      <th>0</th>\n",
       "      <td>2024-05-27 06:18:49+08:00</td>\n",
       "      <td>1.309699</td>\n",
       "      <td>103.896454</td>\n",
       "      <td>231.391652</td>\n",
       "    </tr>\n",
       "    <tr>\n",
       "      <th>1</th>\n",
       "      <td>2024-05-27 06:18:56+08:00</td>\n",
       "      <td>1.309665</td>\n",
       "      <td>103.896435</td>\n",
       "      <td>228.948959</td>\n",
       "    </tr>\n",
       "    <tr>\n",
       "      <th>2</th>\n",
       "      <td>2024-05-27 06:18:57+08:00</td>\n",
       "      <td>1.309670</td>\n",
       "      <td>103.896451</td>\n",
       "      <td>230.757277</td>\n",
       "    </tr>\n",
       "  </tbody>\n",
       "</table>\n",
       "</div>"
      ],
      "text/plain": [
       "                       time  latitude   longitude  distance_to_route\n",
       "0 2024-05-27 06:18:49+08:00  1.309699  103.896454         231.391652\n",
       "1 2024-05-27 06:18:56+08:00  1.309665  103.896435         228.948959\n",
       "2 2024-05-27 06:18:57+08:00  1.309670  103.896451         230.757277"
      ]
     },
     "execution_count": 103,
     "metadata": {},
     "output_type": "execute_result"
    }
   ],
   "source": [
    "query = \"\"\"\n",
    "WITH ordered_route_points AS (\n",
    "    SELECT location\n",
    "    FROM gpx_route\n",
    "    ORDER BY id\n",
    "),\n",
    "route_linestring AS (\n",
    "    SELECT ST_MakeLine(ST_Transform(location, 3857)) AS route\n",
    "    FROM ordered_route_points\n",
    ")\n",
    "\n",
    "SELECT\n",
    "    time,\n",
    "    ST_Y(location) AS latitude,\n",
    "    ST_X(location) AS longitude,\n",
    "    ST_Distance(ST_Transform(location, 3857), (SELECT route FROM route_linestring)) AS distance_to_route\n",
    "FROM\n",
    "    garmin_route;\n",
    "\"\"\"\n",
    "\n",
    "with conn.cursor() as cur:\n",
    "    cur.execute(query)\n",
    "    rows = cur.fetchall()\n",
    "\n",
    "garmin_df = pd.DataFrame(rows, columns=[\"time\", \"latitude\", \"longitude\", \"distance_to_route\"])\n",
    "garmin_df['time'] = garmin_df['time'].apply(lambda x: x.astimezone(timezone('Asia/Singapore')))\n",
    "\n",
    "garmin_df.head(3)"
   ]
  },
  {
   "cell_type": "code",
   "execution_count": 104,
   "id": "b9cd48c1",
   "metadata": {},
   "outputs": [],
   "source": [
    "garmin_df['distance'] = garmin_df.apply(lambda row: geodesic((row['latitude'], row['longitude']), start_location).meters, axis=1)\n",
    "start_point_idx = garmin_df.iloc[:200]['distance'].idxmin()\n",
    "end_point_idx = garmin_df.iloc[-200:]['distance'].idxmin()\n",
    "garmin_df = garmin_df.iloc[start_point_idx:end_point_idx]"
   ]
  },
  {
   "cell_type": "code",
   "execution_count": 58,
   "id": "d33477dc",
   "metadata": {},
   "outputs": [
    {
     "data": {
      "text/plain": [
       "count    1062.000000\n",
       "mean        6.444313\n",
       "std         9.792494\n",
       "min         0.002916\n",
       "25%         1.467228\n",
       "50%         3.645489\n",
       "75%         7.527373\n",
       "max        77.053014\n",
       "Name: distance_to_route, dtype: float64"
      ]
     },
     "execution_count": 58,
     "metadata": {},
     "output_type": "execute_result"
    }
   ],
   "source": [
    "garmin_df['distance_to_route'].describe()"
   ]
  },
  {
   "cell_type": "code",
   "execution_count": 59,
   "id": "12931e2c",
   "metadata": {},
   "outputs": [
    {
     "data": {
      "text/html": [
       "<div>\n",
       "<style scoped>\n",
       "    .dataframe tbody tr th:only-of-type {\n",
       "        vertical-align: middle;\n",
       "    }\n",
       "\n",
       "    .dataframe tbody tr th {\n",
       "        vertical-align: top;\n",
       "    }\n",
       "\n",
       "    .dataframe thead th {\n",
       "        text-align: right;\n",
       "    }\n",
       "</style>\n",
       "<table border=\"1\" class=\"dataframe\">\n",
       "  <thead>\n",
       "    <tr style=\"text-align: right;\">\n",
       "      <th></th>\n",
       "      <th>time</th>\n",
       "      <th>latitude</th>\n",
       "      <th>longitude</th>\n",
       "      <th>distance_to_route</th>\n",
       "    </tr>\n",
       "  </thead>\n",
       "  <tbody>\n",
       "    <tr>\n",
       "      <th>0</th>\n",
       "      <td>2024-05-27 06:19:27.641000+08:00</td>\n",
       "      <td>1.309362</td>\n",
       "      <td>103.896368</td>\n",
       "      <td>220.451582</td>\n",
       "    </tr>\n",
       "    <tr>\n",
       "      <th>1</th>\n",
       "      <td>2024-05-27 06:19:28.642000+08:00</td>\n",
       "      <td>1.309355</td>\n",
       "      <td>103.896353</td>\n",
       "      <td>218.818110</td>\n",
       "    </tr>\n",
       "    <tr>\n",
       "      <th>2</th>\n",
       "      <td>2024-05-27 06:19:29.642000+08:00</td>\n",
       "      <td>1.309360</td>\n",
       "      <td>103.896333</td>\n",
       "      <td>216.567873</td>\n",
       "    </tr>\n",
       "  </tbody>\n",
       "</table>\n",
       "</div>"
      ],
      "text/plain": [
       "                              time  latitude   longitude  distance_to_route\n",
       "0 2024-05-27 06:19:27.641000+08:00  1.309362  103.896368         220.451582\n",
       "1 2024-05-27 06:19:28.642000+08:00  1.309355  103.896353         218.818110\n",
       "2 2024-05-27 06:19:29.642000+08:00  1.309360  103.896333         216.567873"
      ]
     },
     "execution_count": 59,
     "metadata": {},
     "output_type": "execute_result"
    }
   ],
   "source": [
    "query = \"\"\"\n",
    "WITH ordered_route_points AS (\n",
    "    SELECT location\n",
    "    FROM gpx_route\n",
    "    ORDER BY id\n",
    "),\n",
    "route_linestring AS (\n",
    "    SELECT ST_MakeLine(ST_Transform(location, 3857)) AS route\n",
    "    FROM ordered_route_points\n",
    ")\n",
    "\n",
    "SELECT\n",
    "    time,\n",
    "    ST_Y(location) AS latitude,\n",
    "    ST_X(location) AS longitude,\n",
    "    ST_Distance(ST_Transform(location, 3857), (SELECT route FROM route_linestring)) AS distance_to_route\n",
    "FROM\n",
    "    polar_route;\n",
    "\"\"\"\n",
    "\n",
    "with conn.cursor() as cur:\n",
    "    cur.execute(query)\n",
    "    rows = cur.fetchall()\n",
    "\n",
    "polar_df = pd.DataFrame(rows, columns=[\"time\", \"latitude\", \"longitude\", \"distance_to_route\"])\n",
    "polar_df['time'] = polar_df['time'].apply(lambda x: x.astimezone(timezone('Asia/Singapore')))\n",
    "\n",
    "polar_df.head(3)"
   ]
  },
  {
   "cell_type": "code",
   "execution_count": 60,
   "id": "347326f9",
   "metadata": {},
   "outputs": [],
   "source": [
    "polar_df['distance'] = polar_df.apply(lambda row: geodesic((row['latitude'], row['longitude']), start_location).meters, axis=1)\n",
    "start_point_idx = polar_df.iloc[:200]['distance'].idxmin()\n",
    "end_point_idx = polar_df.iloc[-200:]['distance'].idxmin()\n",
    "polar_df = polar_df.iloc[start_point_idx:end_point_idx]"
   ]
  },
  {
   "cell_type": "code",
   "execution_count": 74,
   "id": "8652dd8f",
   "metadata": {},
   "outputs": [
    {
     "name": "stdout",
     "output_type": "stream",
     "text": [
      "             Polar       Garmin\n",
      "count  4578.000000  1062.000000\n",
      "mean      9.294731     6.444313\n",
      "std      10.092639     9.792494\n",
      "min       0.000022     0.002916\n",
      "25%       2.806925     1.467228\n",
      "50%       7.027681     3.645489\n",
      "75%      12.141422     7.527373\n",
      "max      80.102673    77.053014\n"
     ]
    }
   ],
   "source": [
    "desc_polar_df = polar_df['distance_to_route'].describe().to_frame()\n",
    "desc_polar_df.columns = ['Polar']\n",
    "\n",
    "desc_garmin_df = garmin_df['distance_to_route'].describe().to_frame()\n",
    "desc_garmin_df.columns = ['Garmin']\n",
    "\n",
    "merged_desc = pd.concat([desc_polar_df, desc_garmin_df], axis=1)\n",
    "merged_desc.to_csv('/tmp/merged_desc.csv')\n",
    "\n",
    "print(merged_desc)"
   ]
  },
  {
   "cell_type": "code",
   "execution_count": 63,
   "id": "549ef6c2",
   "metadata": {},
   "outputs": [
    {
     "data": {
      "image/png": "[encoded data removed]",
      "text/plain": [
       "<Figure size 864x432 with 1 Axes>"
      ]
     },
     "metadata": {
      "needs_background": "light"
     },
     "output_type": "display_data"
    }
   ],
   "source": [
    "plt.figure(figsize=(12, 6))\n",
    "plt.plot(polar_df['time'], polar_df['distance_to_route'], color='blue', label='Polar')\n",
    "plt.plot(garmin_df['time'], garmin_df['distance_to_route'], color='red', label='Garmin')\n",
    "plt.xlabel('Time')\n",
    "plt.ylabel('Distance error (m)')\n",
    "plt.legend()\n",
    "plt.grid(True)\n",
    "plt.savefig(output_dir + '/' + filename)"
   ]
  },
  {
   "cell_type": "code",
   "execution_count": 100,
   "id": "30ac8ba8",
   "metadata": {},
   "outputs": [],
   "source": [
    "def get_total_distance(df):\n",
    "    df['prev_latitude'] = df['latitude'].shift(1)\n",
    "    df['prev_longitude'] = df['longitude'].shift(1)\n",
    "\n",
    "    df = df.dropna().reset_index(drop=True)\n",
    "\n",
    "    df['distance'] = df.apply(lambda x: geodesic((x['prev_latitude'], x['prev_longitude']), (x['latitude'], x['longitude'])).meters, axis=1)\n",
    "    df['accumulated_distance'] = df['distance'].cumsum()\n",
    "    \n",
    "    return df"
   ]
  },
  {
   "cell_type": "code",
   "execution_count": 101,
   "id": "010d2d11",
   "metadata": {},
   "outputs": [
    {
     "data": {
      "text/plain": [
       "13313.367896701895"
      ]
     },
     "execution_count": 101,
     "metadata": {},
     "output_type": "execute_result"
    }
   ],
   "source": [
    "polar_df = get_total_distance(polar_df)\n",
    "polar_df.iloc[-1]['accumulated_distance']"
   ]
  },
  {
   "cell_type": "code",
   "execution_count": 105,
   "id": "5363c05b",
   "metadata": {},
   "outputs": [
    {
     "data": {
      "text/plain": [
       "13200.89157345585"
      ]
     },
     "execution_count": 105,
     "metadata": {},
     "output_type": "execute_result"
    }
   ],
   "source": [
    "garmin_df = get_total_distance(garmin_df)\n",
    "garmin_df.iloc[-1]['accumulated_distance']"
   ]
  },
  {
   "cell_type": "code",
   "execution_count": null,
   "id": "23bbab20",
   "metadata": {},
   "outputs": [],
   "source": []
  }
 ],
 "metadata": {
  "kernelspec": {
   "display_name": "Python 3 (ipykernel)",
   "language": "python",
   "name": "python3"
  },
  "language_info": {
   "codemirror_mode": {
    "name": "ipython",
    "version": 3
   },
   "file_extension": ".py",
   "mimetype": "text/x-python",
   "name": "python",
   "nbconvert_exporter": "python",
   "pygments_lexer": "ipython3",
   "version": "3.11.9"
  }
 },
 "nbformat": 4,
 "nbformat_minor": 5
}
